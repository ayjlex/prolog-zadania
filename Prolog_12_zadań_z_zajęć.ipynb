{
  "nbformat": 4,
  "nbformat_minor": 0,
  "metadata": {
    "colab": {
      "provenance": []
    },
    "kernelspec": {
      "name": "python3",
      "display_name": "Python 3"
    },
    "language_info": {
      "name": "python"
    }
  },
  "cells": [
    {
      "cell_type": "markdown",
      "source": [
        "Zadanie 1"
      ],
      "metadata": {
        "id": "iLGsWMGa2QtB"
      }
    },
    {
      "cell_type": "code",
      "source": [
        "ojciec(kazimierz, jacek).\n",
        "ojciec(kazimierz, anna).\n",
        "matka(ewa, anna).\n",
        "matka(katarzyna, magda)."
      ],
      "metadata": {
        "id": "nXG1snp22oE_"
      },
      "execution_count": null,
      "outputs": []
    },
    {
      "cell_type": "markdown",
      "source": [
        "Zadanie 2"
      ],
      "metadata": {
        "id": "4fee-M9N2Q3F"
      }
    },
    {
      "cell_type": "code",
      "source": [
        "rodzic(jan, marek).\n",
        "rodzic(maria, kasia)."
      ],
      "metadata": {
        "id": "0lsFPvrI2pEW"
      },
      "execution_count": null,
      "outputs": []
    },
    {
      "cell_type": "markdown",
      "source": [
        "Zadanie 3"
      ],
      "metadata": {
        "id": "lsJhYWnt2RFi"
      }
    },
    {
      "cell_type": "code",
      "source": [
        "ojciec(janusz, pawel).\n",
        "ojciec(janusz, alicja).\n",
        "ojciec(edward, janusz).\n",
        "matka(teresa, janusz).\n",
        "\n",
        "dziadek(X, Y) :- ojciec(X, Z), (ojciec(Z, Y) ; matka(Z, Y))."
      ],
      "metadata": {
        "id": "MNHCCYsM2sUf"
      },
      "execution_count": null,
      "outputs": []
    },
    {
      "cell_type": "markdown",
      "source": [
        "Zadanie 4"
      ],
      "metadata": {
        "id": "OMGcFPsU2RQT"
      }
    },
    {
      "cell_type": "code",
      "source": [
        "kobieta(marta).\n",
        "kobieta(anna).\n",
        "kobieta(eliza).\n",
        "kobieta(kasia).\n",
        "\n",
        "rodzic(andrzej, marta).\n",
        "rodzic(andrzej, anna).\n",
        "rodzic(katarzyna, eliza).\n",
        "rodzic(katarzyna, kasia).\n",
        "\n",
        "siostra(X, Y) :-\n",
        "    kobieta(X),\n",
        "    rodzic(Z, X),\n",
        "    rodzic(Z, Y),\n",
        "    X \\== Y."
      ],
      "metadata": {
        "id": "i_sF4D582tIB"
      },
      "execution_count": null,
      "outputs": []
    },
    {
      "cell_type": "markdown",
      "source": [
        "Zadanie 5"
      ],
      "metadata": {
        "id": "JuEq5eo72Rlq"
      }
    },
    {
      "cell_type": "code",
      "source": [
        "rodzic(karol, agata).\n",
        "rodzic(karol, michal).\n",
        "rodzic(ewa, agata).\n",
        "\n",
        "jest_rodzicem(X) :- rodzic(X, _)."
      ],
      "metadata": {
        "id": "0xW3wSaI2vk-"
      },
      "execution_count": null,
      "outputs": []
    },
    {
      "cell_type": "markdown",
      "source": [
        "Zadanie 6\n"
      ],
      "metadata": {
        "id": "OWzTzqsi2SUJ"
      }
    },
    {
      "cell_type": "code",
      "source": [
        "rodzic(jan, robert).\n",
        "rodzic(jan, tomek).\n",
        "rodzic(jan, anna).\n",
        "\n",
        "czyj_rodzic(X, ListaDzieci) :- findall(Y, rodzic(X, Y), ListaDzieci)."
      ],
      "metadata": {
        "id": "hjllBei92xho"
      },
      "execution_count": null,
      "outputs": []
    },
    {
      "cell_type": "markdown",
      "source": [
        "Zadanie 7"
      ],
      "metadata": {
        "id": "i05z58mo2kAP"
      }
    },
    {
      "cell_type": "code",
      "source": [
        "rodzic(jan, anna).\n",
        "rodzic(jan, piotr).\n",
        "rodzic(maria, anna).\n",
        "rodzic(maria, piotr).\n",
        "\n",
        "rodzic_cut(X, Y) :- rodzic(X, Y), !.\n",
        "rodzic_bez_cut(X, Y) :- rodzic(X, Y)."
      ],
      "metadata": {
        "id": "pHyoFoAW21WL"
      },
      "execution_count": null,
      "outputs": []
    },
    {
      "cell_type": "markdown",
      "source": [
        "Zadanie 8"
      ],
      "metadata": {
        "id": "ST7plD9d2gT_"
      }
    },
    {
      "cell_type": "code",
      "source": [
        "rodzic(krystyna, jacek).\n",
        "rodzic(krystyna, magda).\n",
        "rodzic(andrzej, jacek).\n",
        "rodzic(andrzej, magda).\n",
        "\n",
        "rodzic(X, Y) :- rodzic(X, Y), !."
      ],
      "metadata": {
        "id": "lv_2LgSt229z"
      },
      "execution_count": null,
      "outputs": []
    },
    {
      "cell_type": "markdown",
      "source": [
        "Zadanie 9"
      ],
      "metadata": {
        "id": "wIp0r8kY2g8c"
      }
    },
    {
      "cell_type": "code",
      "source": [
        "wiek(aleksander, 40).\n",
        "wiek(daniel, 35).\n",
        "wiek(olga, 25).\n",
        "\n",
        "starszy(X, Y) :- wiek(X, WiekX), wiek(Y, WiekY), WiekX > WiekY."
      ],
      "metadata": {
        "id": "qsw2M6JC24qL"
      },
      "execution_count": null,
      "outputs": []
    },
    {
      "cell_type": "markdown",
      "source": [
        "Zadanie 10"
      ],
      "metadata": {
        "id": "PPNJZy6g2heP"
      }
    },
    {
      "cell_type": "code",
      "source": [
        "wiek(jacek, 50).\n",
        "wiek(anna, 45).\n",
        "wiek(ewa, 30).\n",
        "\n",
        "wiek_wiecej_niz(N) :-\n",
        "    wiek(X, Wiek),\n",
        "    Wiek > N,\n",
        "    write(X), nl,\n",
        "    fail.\n",
        "wiek_wiecej_niz(_)."
      ],
      "metadata": {
        "id": "L2SDC0s0267W"
      },
      "execution_count": null,
      "outputs": []
    },
    {
      "cell_type": "markdown",
      "source": [
        "Zadanie 11"
      ],
      "metadata": {
        "id": "N1cmE_Fx2iEK"
      }
    },
    {
      "cell_type": "code",
      "source": [
        ":- dynamic artykul/3.\n",
        "\n",
        "artykul(monitor, 25, sektor_d).\n",
        "artykul(konsola, 8, sektor_f).\n",
        "artykul(komputer_stacjonarny, 30, sektor_e).\n",
        "\n",
        "dodaj_artykul(X) :-\n",
        "    assertz(X).\n",
        "\n",
        "usun_artykul(X) :-\n",
        "    retract(X),\n",
        "    !.\n",
        "\n",
        "usun_artykul(_).\n",
        "\n",
        "wyswietl_artykuly :-\n",
        "    artykul(Nazwa, Ilosc, Sektor),\n",
        "    format('Nazwa: ~w, Ilość: ~w, Sektor: ~w~n', [Nazwa, Ilosc, Sektor]),\n",
        "    fail.\n",
        "wyswietl_artykuly."
      ],
      "metadata": {
        "id": "FxCFaTD5285L"
      },
      "execution_count": null,
      "outputs": []
    },
    {
      "cell_type": "markdown",
      "source": [
        "Zadanie 12"
      ],
      "metadata": {
        "id": "rnbLiPaz2isT"
      }
    },
    {
      "cell_type": "code",
      "source": [
        "zamien(_, _, [], []).\n",
        "zamien(X, Y, [X|T1], [Y|T2]) :-\n",
        "    zamien(X, Y, T1, T2).\n",
        "zamien(X, Y, [H|T1], [H|T2]) :-\n",
        "    H \\= X,\n",
        "    zamien(X, Y, T1, T2).\n",
        "\n",
        "dlugosc([], 0).\n",
        "dlugosc([_|T], N) :-\n",
        "    dlugosc(T, N1),\n",
        "    N is N1 + 1."
      ],
      "metadata": {
        "id": "Pbisl0Zn2-YO"
      },
      "execution_count": null,
      "outputs": []
    }
  ]
}