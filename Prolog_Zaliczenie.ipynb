{
  "nbformat": 4,
  "nbformat_minor": 0,
  "metadata": {
    "colab": {
      "provenance": []
    },
    "kernelspec": {
      "name": "python3",
      "display_name": "Python 3"
    },
    "language_info": {
      "name": "python"
    }
  },
  "cells": [
    {
      "cell_type": "markdown",
      "source": [
        "UWAGI:\n",
        "- zadania, które wymagają aktualizacji danych (3 i 5) działają jedynie w Prologu SWI, natomiast w Swishu się nie aktualizują fakty\n",
        "- pod każdym zadaniem są przykładowe zapytania z oczekiwanym outputem\n",
        "- odległości pomiędzy miastami, ceny podróży i gatunki książek nie odpowiadają rzeczywistości"
      ],
      "metadata": {
        "id": "HlWReltRy6GK"
      }
    },
    {
      "cell_type": "markdown",
      "source": [
        "Zadanie 1"
      ],
      "metadata": {
        "id": "SE9kwjB3rwpz"
      }
    },
    {
      "cell_type": "code",
      "source": [
        "ojciec(kacper, anna).\n",
        "ojciec(kacper, kuba).\n",
        "ojciec(kacper, andrzej).\n",
        "ojciec(kacper, mikolaj).\n",
        "ojciec(robert, oliwka).\n",
        "ojciec(robert, dominika).\n",
        "ojciec(kuba, wladek).\n",
        "ojciec(kuba, bartek).\n",
        "ojciec(kamil, dawid).\n",
        "ojciec(kamil, maja).\n",
        "\n",
        "matka(oliwka, anna).\n",
        "matka(oliwka, kuba).\n",
        "matka(oliwka, andrzej).\n",
        "matka(oliwka, mikolaj).\n",
        "matka(dominika, dawid).\n",
        "matka(dominika, maja).\n",
        "matka(kasia, wladek).\n",
        "matka(kasia, bartek).\n",
        "matka(ola, oliwka).\n",
        "matka(ola, dominika).\n",
        "\n",
        "malzenstwo(kacper, oliwka).\n",
        "malzenstwo(kuba, kasia).\n",
        "malzenstwo(kamil, dominika).\n",
        "malzenstwo(robert, ola).\n",
        "\n",
        "mezczyzna(kacper).\n",
        "mezczyzna(kuba).\n",
        "mezczyzna(andrzej).\n",
        "mezczyzna(mikolaj).\n",
        "mezczyzna(robert).\n",
        "mezczyzna(dawid).\n",
        "mezczyzna(wladek).\n",
        "mezczyzna(bartek).\n",
        "mezczyzna(kamil).\n",
        "\n",
        "kobieta(oliwka).\n",
        "kobieta(anna).\n",
        "kobieta(dominika).\n",
        "kobieta(maja).\n",
        "kobieta(kasia).\n",
        "kobieta(ola).\n",
        "\n",
        "rodzic(X, Y) :- ojciec(X, Y).\n",
        "rodzic(X, Y) :- matka(X, Y).\n",
        "\n",
        "przodek(X, Y) :-\n",
        "    rodzic(X, Y).\n",
        "\n",
        "przodek(X, Y) :-\n",
        "    rodzic(Z, Y),\n",
        "    przodek(X, Z).\n",
        "\n",
        "brat(X, Y) :-\n",
        "    mezczyzna(X),\n",
        "    rodzic(Z, X),\n",
        "    rodzic(Z, Y),\n",
        "    X \\= Y.\n",
        "\n",
        "siostra(X, Y) :-\n",
        "    kobieta(X),\n",
        "    rodzic(Z, X),\n",
        "    rodzic(Z, Y),\n",
        "    X \\= Y.\n",
        "\n",
        "kuzyn(X, Y) :-\n",
        "    rodzic(Z, X),\n",
        "    rodzic(W, Y),\n",
        "    (brat(Z, W); siostra(Z, W)).\n",
        "\n"
      ],
      "metadata": {
        "id": "2fSg1BTCraCX"
      },
      "execution_count": null,
      "outputs": []
    },
    {
      "cell_type": "markdown",
      "source": [
        "Przykładowe zapytania:\n",
        "\n",
        "?- przodek(kacper, anna). - [true]\n",
        "\n",
        "?- brat(kuba, andrzej). - [true]\n",
        "\n",
        "?- siostra(anna, kuba). - [true]"
      ],
      "metadata": {
        "id": "kGBg8UYkscwK"
      }
    },
    {
      "cell_type": "markdown",
      "source": [
        "Zadanie 2"
      ],
      "metadata": {
        "id": "9JrrkaVYtqJX"
      }
    },
    {
      "cell_type": "code",
      "source": [
        "lotnisko(wroclaw).\n",
        "lotnisko(krakow).\n",
        "lotnisko(gdansk).\n",
        "lotnisko(warszawa).\n",
        "lotnisko(poznan).\n",
        "\n",
        "polaczenie(warszawa, krakow, 200).\n",
        "polaczenie(warszawa, gdansk, 500).\n",
        "polaczenie(warszawa, wroclaw, 400).\n",
        "polaczenie(krakow, gdansk, 200).\n",
        "polaczenie(krakow, wroclaw, 200).\n",
        "polaczenie(wroclaw, poznan, 150).\n",
        "polaczenie(poznan, gdansk, 250).\n",
        "\n",
        "polaczenie(X, Y) :- polaczenie(X, Y, _).\n",
        "polaczenie(X, Y) :- polaczenie(Y, X, _).\n",
        "\n",
        "koszt_podrozy(X, Y, C) :- polaczenie(X, Y, C).\n",
        "koszt_podrozy(X, Y, C) :- polaczenie(Y, X, C).\n",
        "\n",
        "najkrotsza_droga(X, Y) :-\n",
        "    findall((Koszt, Trasa), najkrotsza_trasa(X, Y, Koszt, Trasa, []), Trasy),\n",
        "    sort(Trasy, Posortowane),\n",
        "    Posortowane = [(Koszt, Trasa)|_],\n",
        "    write('Trasa przez '), write(Trasa),\n",
        "    write(', koszt '), write(Koszt), nl.\n",
        "\n",
        "najkrotsza_trasa(X, Y, Koszt, [X, Y], _) :-\n",
        "    koszt_podrozy(X, Y, Koszt).\n",
        "\n",
        "najkrotsza_trasa(X, Y, Koszt, [X|Trasa], Odwiedzone) :-\n",
        "    koszt_podrozy(X, Z, C1),\n",
        "    Z \\= Y,\n",
        "    \\+ member(Z, Odwiedzone),\n",
        "    najkrotsza_trasa(Z, Y, C2, Trasa, [X|Odwiedzone]),\n",
        "    Koszt is C1 + C2.\n"
      ],
      "metadata": {
        "id": "_aHBUKvOtrXz"
      },
      "execution_count": null,
      "outputs": []
    },
    {
      "cell_type": "markdown",
      "source": [
        "Przykładowe zapytania:\n",
        "\n",
        "?- polaczenie(warszawa, krakow). - [true]\n",
        "\n",
        "?- koszt_podrozy(warszawa, gdansk, C). - [C = 500]\n",
        "\n",
        "?- najkrotsza_droga(warszawa, gdansk). - [Trasa przez [warszawa, krakow, gdansk], koszt 500]"
      ],
      "metadata": {
        "id": "xqFkfOWktvIr"
      }
    },
    {
      "cell_type": "markdown",
      "source": [
        "Zadanie 3"
      ],
      "metadata": {
        "id": "kxrMVwMZvPF0"
      }
    },
    {
      "cell_type": "code",
      "source": [
        ":- dynamic produkt/3.\n",
        "\n",
        "produkt(tv, 10, sektor_a).\n",
        "produkt(pralka, 5, sektor_b).\n",
        "produkt(lodowka, 3, sektor_c).\n",
        "produkt(sluchawki, 1, sektor_a).\n",
        "produkt(pendrive, 2, sektor_b).\n",
        "produkt(klawiatura, 3, sektor_c).\n",
        "\n",
        "dostepny_produkt(X) :-\n",
        "    produkt(X, Ilosc, _),\n",
        "    Ilosc > 0.\n",
        "\n",
        "przenies_produkt(X, Y) :-\n",
        "    produkt(X, Ilosc, StarySektor),\n",
        "    retract(produkt(X, Ilosc, StarySektor)),\n",
        "    assert(produkt(X, Ilosc, Y)),\n",
        "    format('produkt(~w, ~w, ~w).~n', [X, Ilosc, Y]).\n",
        "\n",
        "uzupelnij_stan(X, N) :-\n",
        "    produkt(X, Ilosc, Sektor),\n",
        "    retract(produkt(X, Ilosc, Sektor)),\n",
        "    NowaIlosc is Ilosc + N,\n",
        "    assert(produkt(X, NowaIlosc, Sektor)),\n",
        "    format('produkt(~w, ~w, ~w).~n', [X, NowaIlosc, Sektor]).\n"
      ],
      "metadata": {
        "id": "zhnQxnqOvTRM"
      },
      "execution_count": null,
      "outputs": []
    },
    {
      "cell_type": "markdown",
      "source": [
        "Przykładowe zapytania:\n",
        "\n",
        "?- dostepny_produkt(tv). - [true]\n",
        "\n",
        "?- przenies_produkt(tv, sektor_b). - [produkt(tv, 10, sektor_b)]\n",
        "\n",
        "?- uzupelnij_stan(pralka, 3). - [produkt(pralka, 8, sektor_b)]"
      ],
      "metadata": {
        "id": "qyliUWYrvXV0"
      }
    },
    {
      "cell_type": "markdown",
      "source": [
        "Zadanie 4"
      ],
      "metadata": {
        "id": "DzTT_dh_v81k"
      }
    },
    {
      "cell_type": "code",
      "source": [
        "miasto(lodz).\n",
        "miasto(gdynia).\n",
        "miasto(warszawa).\n",
        "miasto(lublin).\n",
        "droga(warszawa, lodz, 6).\n",
        "droga(warszawa, gdynia, 9).\n",
        "droga(lodz, gdynia, 2).\n",
        "droga(warszawa, lublin, 3).\n",
        "droga(lublin, gdynia, 7).\n",
        "droga(gdynia, kazimierz, 6).\n",
        "\n",
        "droga(X,Y) :- droga(X,Y,_).\n",
        "czas_przejazdu(X,Y,T) :- droga(X,Y,T).\n",
        "\n",
        "najkrotsza_trasa(X, Y, NajkrotszaTrasa, NajkrotszyCzas) :-\n",
        "    findall((Trasa, Czas), trasa(X, Y, Trasa, Czas), MozliweTrasy),\n",
        "    minimalna_trasa(MozliweTrasy, (NajkrotszaTrasa, NajkrotszyCzas)).\n",
        "\n",
        "trasa(X, Y, [X, Y], Czas) :- droga(X, Y, Czas).\n",
        "trasa(X, Y, [X | ResztaTrasy], Czas) :-\n",
        "    droga(X, Z, Czas1),\n",
        "    trasa(Z, Y, ResztaTrasy, Czas2),\n",
        "    X \\= Y,\n",
        "    \\+ member(X, ResztaTrasy),\n",
        "    Czas is Czas1 + Czas2.\n",
        "minimalna_trasa([Trasa], Trasa).\n",
        "minimalna_trasa([(T1, C1), (_, C2) | Reszta], Min) :-\n",
        "    C1 =< C2, minimalna_trasa([(T1, C1) | Reszta], Min).\n",
        "minimalna_trasa([(_, C1), (T2, C2) | Reszta], Min) :-\n",
        "    C1 > C2, minimalna_trasa([(T2, C2) | Reszta], Min).\n"
      ],
      "metadata": {
        "id": "npC5rFhAwEfI"
      },
      "execution_count": null,
      "outputs": []
    },
    {
      "cell_type": "markdown",
      "source": [
        "Przykładowe zapytania:\n",
        "\n",
        "?- droga(warszawa, lodz). - [true]\n",
        "\n",
        "?- czas_przejazdu(warszawa, gdynia, T). - [T = 9]\n",
        "\n",
        "?- najkrotsza_trasa(warszawa, gdynia, Trasa, Czas). - [Trasa = [warszawa, lodz, gdynia], Czas = 8]"
      ],
      "metadata": {
        "id": "H1Zs29HcwE-5"
      }
    },
    {
      "cell_type": "markdown",
      "source": [
        "Zadanie 5"
      ],
      "metadata": {
        "id": "cudFmS8TxLp_"
      }
    },
    {
      "cell_type": "code",
      "source": [
        "ksiazka('Przygody Sherlocka Holmesa', doyle, kryminał).\n",
        "ksiazka('Hobbit', tolkien, fantasy).\n",
        "ksiazka('Duma i uprzedzenie', austen, romans).\n",
        "ksiazka('Władca Pierścieni', tolkien, fantasy).\n",
        "ksiazka('Harry Potter', jkrowling, poezja).\n",
        "ksiazka('Zbrodnia i kara', dostojewski, dramat).\n",
        "\n",
        ":- dynamic ocena/3.\n",
        "\n",
        "ocena(uzytkownik1, 'Przygody Sherlocka Holmesa', 4).\n",
        "ocena(uzytkownik1, 'Hobbit', 5).\n",
        "ocena(uzytkownik1, 'Duma i uprzedzenie', 3).\n",
        "ocena(uzytkownik1, 'Władca Pierścieni', 4).\n",
        "ocena(uzytkownik1, 'Harry Potter', 5).\n",
        "ocena(uzytkownik1, 'Zbrodnia i kara', 4).\n",
        "ocena(uzytkownik2, 'Przygody Sherlocka Holmesa', 5).\n",
        "ocena(uzytkownik2, 'Hobbit', 4).\n",
        "ocena(uzytkownik2, 'Duma i uprzedzenie', 4).\n",
        "ocena(uzytkownik2, 'Władca Pierścieni', 5).\n",
        "ocena(uzytkownik2, 'Harry Potter', 3).\n",
        "ocena(uzytkownik2, 'Zbrodnia i kara', 4).\n",
        "\n",
        "preferencje(uzytkownik1, fantasy).\n",
        "preferencje(uzytkownik1, kryminał).\n",
        "preferencje(uzytkownik1, dramat).\n",
        "preferencje(uzytkownik2, dramat).\n",
        "preferencje(uzytkownik2, romans).\n",
        "preferencje(uzytkownik2, poezja).\n",
        "\n",
        "dodaj_ocene(Uzytkownik, Ksiazka, Ocena) :-\n",
        "    retractall(ocena(Uzytkownik, Ksiazka, _)),\n",
        "    assertz(ocena(Uzytkownik, Ksiazka, Ocena)),\n",
        "    write('Ocena została zaktualizowana.'), nl.\n",
        "\n",
        "polecane_ksiazki(Uzytkownik, Gatunek) :-\n",
        "    preferencje(Uzytkownik, Gatunek),\n",
        "    findall(Ksiazka,\n",
        "            (ocena(Uzytkownik, Ksiazka, Ocena),\n",
        "             ksiazka(Ksiazka, _, Gatunek),\n",
        "             Ocena >= 4),\n",
        "            ListaKsiazek),\n",
        "    (ListaKsiazek = [] ->\n",
        "        write('Brak książek do polecenia'), nl;\n",
        "    format('Polecane książki: ~w', [ListaKsiazek]), nl).\n"
      ],
      "metadata": {
        "id": "83qYFWKRxVlB"
      },
      "execution_count": null,
      "outputs": []
    },
    {
      "cell_type": "markdown",
      "source": [
        "Przykładowe zapytania:\n",
        "\n",
        "?- dodaj_ocene(uzytkownik1, 'Władca Pierścieni', 5). - [Ocena została zaktualizowana. + true]\n",
        "\n",
        "?- polecane_ksiazki(uzytkownik1, fantasy). - [Polecane książki: ['Hobbit', 'Władca Pierścieni']]\n",
        "\n",
        "?- polecane_ksiazki(uzytkownik2, dramat). - [['Zbrodnia i kara']]\n",
        "\n",
        "?- najkrotsza_trasa(warszawa, gdynia, Trasa, Czas). - [Trasa = [warszawa, lodz, gdynia], Czas = 8]"
      ],
      "metadata": {
        "id": "k8LvSzJtxXxn"
      }
    }
  ]
}